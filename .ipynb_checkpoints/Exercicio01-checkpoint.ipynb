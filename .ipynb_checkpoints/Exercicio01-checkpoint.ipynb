{
 "cells": [
  {
   "cell_type": "markdown",
   "metadata": {},
   "source": [
    "### Exercícios\n",
    "\n",
    "1. Faça um Programa que peça o raio de um círculo, calcule e mostre sua área."
   ]
  },
  {
   "cell_type": "code",
   "execution_count": 5,
   "metadata": {},
   "outputs": [
    {
     "name": "stdin",
     "output_type": "stream",
     "text": [
      "Digite a area do circulo:  1\n"
     ]
    },
    {
     "name": "stdout",
     "output_type": "stream",
     "text": [
      "A área do circulo é 3.14\n"
     ]
    }
   ],
   "source": [
    "ri = float(input('Digite a area do circulo: '))\n",
    "ar = 3.14 * (r * r)\n",
    "print('A área do circulo é',e)"
   ]
  },
  {
   "cell_type": "markdown",
   "metadata": {},
   "source": [
    "2. Faça um Programa que calcule a área de um quadrado, em seguida mostre o dobro  \n",
    "desta área para o usuário."
   ]
  },
  {
   "cell_type": "code",
   "execution_count": 6,
   "metadata": {},
   "outputs": [
    {
     "name": "stdin",
     "output_type": "stream",
     "text": [
      "Digite o lado do quadrado:  2\n"
     ]
    },
    {
     "name": "stdout",
     "output_type": "stream",
     "text": [
      "A área do quadrado é 4.0 o dobro desta área é 8.0\n"
     ]
    }
   ],
   "source": [
    "la = float(input('Digite o lado do quadrado: '))\n",
    "aq = la * la\n",
    "aqd = aq * 2\n",
    "print('A área do quadrado é',aq,'o dobro desta área é',aqd)"
   ]
  },
  {
   "cell_type": "markdown",
   "metadata": {},
   "source": [
    "3. Faça um Programa que pergunte quanto você ganha por hora e o número de horas  \n",
    "trabalhadas no mês. Calcule e mostre o total do seu salário no referido mês."
   ]
  },
  {
   "cell_type": "code",
   "execution_count": 7,
   "metadata": {},
   "outputs": [
    {
     "name": "stdin",
     "output_type": "stream",
     "text": [
      "Digite quanto você ganha por hora: 12\n",
      "Digite o número de horas trabalhadas no mês: 3\n"
     ]
    },
    {
     "name": "stdout",
     "output_type": "stream",
     "text": [
      "O total do seu salário nesse mês é: R$ 36.0\n"
     ]
    }
   ],
   "source": [
    "gh = float(input('Digite quanto você ganha por hora:'))\n",
    "hm = int(input('Digite o número de horas trabalhadas no mês:'))\n",
    "tm = gh * hm\n",
    "print('O total do seu salário nesse mês é: R$',tm)"
   ]
  },
  {
   "cell_type": "markdown",
   "metadata": {},
   "source": [
    "4.  Faça um Programa que peça a temperatura em graus Farenheit, transforme e  \n",
    "mostre a temperatura em graus Celsius. C = (5 * (F-32) / 9)."
   ]
  },
  {
   "cell_type": "code",
   "execution_count": 8,
   "metadata": {},
   "outputs": [
    {
     "name": "stdin",
     "output_type": "stream",
     "text": [
      "Digite uma temperatura em graus Farenheit: 124\n"
     ]
    },
    {
     "name": "stdout",
     "output_type": "stream",
     "text": [
      "A temperatura em graus Celsius é: 51.111111111111114 °C\n"
     ]
    }
   ],
   "source": [
    "fa = float(input('Digite uma temperatura em graus Farenheit:'))\n",
    "ce= (5 * (fa-32) / 9)\n",
    "print('A temperatura em graus Celsius é:',ce,'°C')"
   ]
  },
  {
   "cell_type": "markdown",
   "metadata": {},
   "source": [
    "5. Faça um Programa que peça a temperatura em graus Celsius, transforme e mostre  \n",
    "em graus Farenheit."
   ]
  },
  {
   "cell_type": "code",
   "execution_count": 10,
   "metadata": {},
   "outputs": [
    {
     "name": "stdin",
     "output_type": "stream",
     "text": [
      "Digite uma temperatura em graus Celsius: 123\n"
     ]
    },
    {
     "name": "stdout",
     "output_type": "stream",
     "text": [
      "A temperatura em graus Farenheit é: 253.4 °F\n"
     ]
    }
   ],
   "source": [
    "cel = float(input('Digite uma temperatura em graus Celsius:'))\n",
    "far = cel * (9 / 5) + 32\n",
    "print('A temperatura em graus Farenheit é:',far,'°F')"
   ]
  },
  {
   "cell_type": "markdown",
   "metadata": {},
   "source": [
    "6. Faça um Programa que peça 2 números inteiros e um número real. Calcule e mostre:"
   ]
  },
  {
   "cell_type": "code",
   "execution_count": 11,
   "metadata": {},
   "outputs": [
    {
     "name": "stdin",
     "output_type": "stream",
     "text": [
      "Digite um número inteiro: 12\n",
      "Digite outro número inteiro: 13\n",
      "Digite um número real: 14\n"
     ]
    }
   ],
   "source": [
    "num = int(input('Digite um número inteiro:'))\n",
    "nume = int(input('Digite outro número inteiro:'))\n",
    "numer = float(input('Digite um número real:'))"
   ]
  },
  {
   "cell_type": "markdown",
   "metadata": {},
   "source": [
    "- o produto do dobro do primeiro com metade do segundo."
   ]
  },
  {
   "cell_type": "code",
   "execution_count": 12,
   "metadata": {},
   "outputs": [],
   "source": [
    "eq = num * 2 * (nume / 2)"
   ]
  },
  {
   "cell_type": "code",
   "execution_count": 14,
   "metadata": {},
   "outputs": [
    {
     "name": "stdout",
     "output_type": "stream",
     "text": [
      "O produto do dobro do primeiro número com metade do segundo número digitado é = 156.0\n"
     ]
    }
   ],
   "source": [
    "print('O produto do dobro do primeiro número com metade do segundo número digitado é =',eq)"
   ]
  },
  {
   "cell_type": "markdown",
   "metadata": {},
   "source": [
    "- a soma do triplo do primeiro com o terceiro."
   ]
  },
  {
   "cell_type": "code",
   "execution_count": 15,
   "metadata": {},
   "outputs": [],
   "source": [
    "equ = num * 3 + numer"
   ]
  },
  {
   "cell_type": "code",
   "execution_count": 16,
   "metadata": {},
   "outputs": [
    {
     "name": "stdout",
     "output_type": "stream",
     "text": [
      "A soma do triplo do primeiro número com o terceiro número digitado é = 50.0\n"
     ]
    }
   ],
   "source": [
    "print('A soma do triplo do primeiro número com o terceiro número digitado é =',equ)"
   ]
  },
  {
   "cell_type": "markdown",
   "metadata": {},
   "source": [
    "- o terceiro elevado ao cubo."
   ]
  },
  {
   "cell_type": "code",
   "execution_count": 18,
   "metadata": {},
   "outputs": [],
   "source": [
    "equa = numer ** 3"
   ]
  },
  {
   "cell_type": "code",
   "execution_count": 19,
   "metadata": {},
   "outputs": [
    {
     "name": "stdout",
     "output_type": "stream",
     "text": [
      "O terceiro número digitado elevado ao cubo é = 2744.0\n"
     ]
    }
   ],
   "source": [
    "print('O terceiro número digitado elevado ao cubo é =',equa)"
   ]
  },
  {
   "cell_type": "markdown",
   "metadata": {},
   "source": [
    "7. João Papo-de-Pescador, homem de bem, comprou um microcomputador para controlar o rendimento diário de seu trabalho.   \n",
    "Toda vez que ele traz um peso de peixes maior que o estabelecido pelo regulamento de pesca do estado de São Paulo (50 quilos)   \n",
    "deve pagar uma multa de R$ 4,00 por quilo excedente. João precisa que você faça um programa que leia a variável peso (peso de peixes)  \n",
    "e verifique se há excesso. Se houver, gravar na variável excesso e na variável multa o valor da multa que João deverá pagar.   \n",
    "Caso contrário mostrar tais variáveis com o conteúdo ZERO."
   ]
  },
  {
   "cell_type": "code",
   "execution_count": 20,
   "metadata": {},
   "outputs": [
    {
     "name": "stdin",
     "output_type": "stream",
     "text": [
      "Digite o número de quilos do peixe que você pegou: 432\n"
     ]
    },
    {
     "name": "stdout",
     "output_type": "stream",
     "text": [
      "Total da multa:R$ 1528.0\n"
     ]
    }
   ],
   "source": [
    "qp = float(input('Digite o número de quilos do peixe que você pegou:'))\n",
    "if qp > 50:\n",
    "    multa = (qp - 50) * 4\n",
    "    print('Total da multa:R$',multa)\n",
    "else:\n",
    "    print('Não teve excesso')"
   ]
  },
  {
   "cell_type": "markdown",
   "metadata": {},
   "source": [
    "8. Faça um Programa que pergunte quanto você ganha por hora e o número de horas trabalhadas no mês.   \n",
    "Calcule e mostre o total do seu salário no referido mês, sabendo-se que são descontados 11% para o   \n",
    "Imposto de Renda, 8% para o INSS e 5% para o sindicato, faça um programa que nos dê:"
   ]
  },
  {
   "cell_type": "code",
   "execution_count": 21,
   "metadata": {},
   "outputs": [
    {
     "name": "stdin",
     "output_type": "stream",
     "text": [
      "Quanto você ganha por hora: 123\n",
      "Número de horas trabalhadas no mês: 123\n"
     ]
    }
   ],
   "source": [
    "qh = float(input('Quanto você ganha por hora:'))\n",
    "h = int(input('Número de horas trabalhadas no mês:'))"
   ]
  },
  {
   "cell_type": "markdown",
   "metadata": {},
   "source": [
    "- salário bruto."
   ]
  },
  {
   "cell_type": "code",
   "execution_count": 22,
   "metadata": {},
   "outputs": [
    {
     "name": "stdout",
     "output_type": "stream",
     "text": [
      "Seu salário bruto é 15129.0\n"
     ]
    }
   ],
   "source": [
    "sb = qh * h\n",
    "print('Seu salário bruto é',sb)"
   ]
  },
  {
   "cell_type": "markdown",
   "metadata": {},
   "source": [
    "- quanto pagou ao INSS."
   ]
  },
  {
   "cell_type": "code",
   "execution_count": 23,
   "metadata": {},
   "outputs": [
    {
     "name": "stdout",
     "output_type": "stream",
     "text": [
      "INSS = 1210.32\n"
     ]
    }
   ],
   "source": [
    "inss = (8/100.0) * sb\n",
    "print('INSS =',inss)"
   ]
  },
  {
   "cell_type": "markdown",
   "metadata": {},
   "source": [
    "- quanto pagou ao Sindicato."
   ]
  },
  {
   "cell_type": "code",
   "execution_count": 24,
   "metadata": {},
   "outputs": [
    {
     "name": "stdout",
     "output_type": "stream",
     "text": [
      "Sindicato = 756.45\n"
     ]
    }
   ],
   "source": [
    "sindicato = (5/100.0) * sb\n",
    "print('Sindicato =',sindicato)"
   ]
  },
  {
   "cell_type": "markdown",
   "metadata": {},
   "source": [
    "- quanto pagou ao Imposto de Renda"
   ]
  },
  {
   "cell_type": "code",
   "execution_count": 25,
   "metadata": {},
   "outputs": [
    {
     "name": "stdout",
     "output_type": "stream",
     "text": [
      "Imposto de Renda = 1664.19\n"
     ]
    }
   ],
   "source": [
    "ir = (11/100.0) * sb\n",
    "print('Imposto de Renda =',ir)"
   ]
  },
  {
   "cell_type": "markdown",
   "metadata": {},
   "source": [
    "- o salário líquido."
   ]
  },
  {
   "cell_type": "code",
   "execution_count": 26,
   "metadata": {},
   "outputs": [
    {
     "name": "stdout",
     "output_type": "stream",
     "text": [
      "Seu salário liquido é 11498.04\n"
     ]
    }
   ],
   "source": [
    "sl = sb - (inss + sindicato + ir)\n",
    "print('Seu salário liquido é',sl)"
   ]
  },
  {
   "cell_type": "markdown",
   "metadata": {},
   "source": [
    "9. Faça um programa que leia 2 strings e informe o conteúdo delas seguido do seu comprimento.   \n",
    "Informe também se as duas strings possuem o mesmo comprimento e são iguais ou diferentes no conteúdo.   \n",
    "Exemplo:   \n",
    "String 1: 'Brasil Hexa 2018'   \n",
    "String 2: 'Brasil! Hexa 2018!'            \n",
    "Tamanho de \"Brasil Hexa 2018\": 16 caracteres    \n",
    "Tamanho de \"Brasil! Hexa 2018!\": 18 caracteres    \n",
    "As duas strings são de tamanhos diferentes.   \n",
    "As duas strings possuem conteúdo diferente.   "
   ]
  },
  {
   "cell_type": "code",
   "execution_count": 27,
   "metadata": {},
   "outputs": [
    {
     "name": "stdin",
     "output_type": "stream",
     "text": [
      "String 1: Hi guys\n",
      "String 2: Hi, guys!\n"
     ]
    }
   ],
   "source": [
    "pa = input(\"String 1:\")\n",
    "pal = input(\"String 2:\")"
   ]
  },
  {
   "cell_type": "code",
   "execution_count": 28,
   "metadata": {},
   "outputs": [
    {
     "name": "stdout",
     "output_type": "stream",
     "text": [
      "Tamanho de Hi guys : 7\n",
      "Tamanho de Hi, guys! : 9\n",
      "As duas strings são de tamanhos diferentes.\n",
      "As duas strings possuem conteúdo diferente.\n"
     ]
    }
   ],
   "source": [
    "print(\"Tamanho de\",pa,\":\",len(pa))\n",
    "print(\"Tamanho de\",pal,\":\",len(pal))\n",
    "\n",
    "if len(pa) == len(pal):\n",
    "    print(\"As duas strings são de tamanhos iguais.\")\n",
    "else:\n",
    "    print(\"As duas strings são de tamanhos diferentes.\")\n",
    "    \n",
    "if pa.lower() == pal.lower():\n",
    "    print(\"As duas strings possuem conteúdo iguais.\")\n",
    "else: \n",
    "    print(\"As duas strings possuem conteúdo diferente.\")"
   ]
  },
  {
   "cell_type": "markdown",
   "metadata": {},
   "source": [
    "10. Faça um programa que permita ao usuário digitar o seu nome e em seguida   \n",
    "mostre o nome do usuário de trás para frente utilizando somente letras maiúsculas.    \n",
    "Dica: lembre−se que ao informar o nome o usuário pode digitar letras maiúsculas ou minúsculas. Observação: não use loops.   "
   ]
  },
  {
   "cell_type": "code",
   "execution_count": 29,
   "metadata": {},
   "outputs": [
    {
     "name": "stdin",
     "output_type": "stream",
     "text": [
      "Usuário, digite o seu nome: Cleomacio\n"
     ]
    },
    {
     "name": "stdout",
     "output_type": "stream",
     "text": [
      "O nome do usuário de trás para frente utilizando somente letras maiúsculas: OICAMOELC\n"
     ]
    }
   ],
   "source": [
    "nome = input('Usuário, digite o seu nome:')\n",
    "nome = nome.upper()\n",
    "print('O nome do usuário de trás para frente utilizando somente letras maiúsculas:',nome[::-1])"
   ]
  },
  {
   "cell_type": "markdown",
   "metadata": {},
   "source": [
    "11. Faça um programa que solicite a data de nascimento (dd/mm/aaaa) do usuário e imprima a data com o nome do mês por extenso.   \n",
    "Data de Nascimento: 29/10/1973   \n",
    "Você nasceu em  29 de Outubro de 1973.   \n",
    "Obs.: Não use desvio condicional nem loops.   "
   ]
  },
  {
   "cell_type": "code",
   "execution_count": 30,
   "metadata": {},
   "outputs": [
    {
     "name": "stdin",
     "output_type": "stream",
     "text": [
      "informe a data (dd/mm/aaaa):  12/04/1994\n"
     ]
    },
    {
     "name": "stdout",
     "output_type": "stream",
     "text": [
      "Você nasce em:\n",
      "12 de abril de 1994\n"
     ]
    }
   ],
   "source": [
    "data = input(\"informe a data (dd/mm/aaaa): \")\n",
    "meses = ['janeiro','fevereiro','março','abril',\n",
    "         'maio','junho','julho','agosto','setembro',\n",
    "         'outubro','novembro','dezembro']\n",
    "print ('Você nasce em:')\n",
    "print (data.split(\"/\")[0],\n",
    "       \"de\",\n",
    "       meses[(int(data.split(\"/\")[1])-1)],\n",
    "       \"de\",\n",
    "       data.split(\"/\")[2])"
   ]
  },
  {
   "cell_type": "markdown",
   "metadata": {},
   "source": [
    "12. Leet é uma forma de se escrever o alfabeto latino usando outros símbolos em   \n",
    "lugar das letras, como números por exemplo. A própria palavra leet admite muitas   \n",
    "variações, como l33t ou 1337. O uso do leet reflete uma subcultura relacionada ao   \n",
    "mundo dos jogos de computador e internet, sendo muito usada para confundir os   \n",
    "iniciantes e afirmar-se como parte de um grupo. Pesquise sobre as principais formas   \n",
    "de traduzir as letras. Depois, faça um programa que peça uma texto e transforme-o   \n",
    "para a grafia leet speak.   \n",
    "Desafio: não use loops nem desvios condicionais."
   ]
  },
  {
   "cell_type": "code",
   "execution_count": 31,
   "metadata": {},
   "outputs": [
    {
     "name": "stdin",
     "output_type": "stream",
     "text": [
      "Escreva um texto: Cleomacio Silva de Oliveira \n"
     ]
    },
    {
     "name": "stdout",
     "output_type": "stream",
     "text": [
      "Texto traduzido para a grafia leet speak:\n",
      "<\n",
      "|_\n",
      "3\n",
      "0\n",
      "^^\n",
      "4\n",
      "<\n",
      "1\n",
      "0\n",
      " \n",
      "5\n",
      "1\n",
      "|_\n",
      "\\//\n",
      "4\n",
      " \n",
      "[)\n",
      "3\n",
      " \n",
      "0\n",
      "|_\n",
      "1\n",
      "\\//\n",
      "3\n",
      "1\n",
      "l2\n",
      "4\n",
      " \n"
     ]
    }
   ],
   "source": [
    "leet = {\n",
    "    'A': '4',\n",
    "    'B': '13',\n",
    "    'C': '<',\n",
    "    'D': '[)',\n",
    "    'E': '3',\n",
    "    'F': '|=',\n",
    "    'G': '6',\n",
    "    'H': '#',\n",
    "    'I': '1',\n",
    "    'J': 'u|',\n",
    "    'K': '|<',\n",
    "    'L': '|_',\n",
    "    'M': '^^',\n",
    "    'N': '|V',\n",
    "    'O': '0',\n",
    "    'P': '|D',\n",
    "    'Q': '9',\n",
    "    'R': 'l2',\n",
    "    'S': '5',\n",
    "    'T': '7',\n",
    "    'U': '\\_/',\n",
    "    'V': '\\\\//',\n",
    "    'W': 'vv',\n",
    "    'X': '><',\n",
    "    'Y': '`/',\n",
    "    'Z': '7_'\n",
    "}\n",
    "t = input('Escreva um texto:')\n",
    "print('Texto traduzido para a grafia leet speak:')\n",
    "for i in t.upper():\n",
    "    if i.isalpha():\n",
    "        print(leet[i])\n",
    "    else:\n",
    "        print(' ')"
   ]
  },
  {
   "cell_type": "code",
   "execution_count": null,
   "metadata": {},
   "outputs": [],
   "source": []
  }
 ],
 "metadata": {
  "kernelspec": {
   "display_name": "Python 3",
   "language": "python",
   "name": "python3"
  },
  "language_info": {
   "codemirror_mode": {
    "name": "ipython",
    "version": 3
   },
   "file_extension": ".py",
   "mimetype": "text/x-python",
   "name": "python",
   "nbconvert_exporter": "python",
   "pygments_lexer": "ipython3",
   "version": "3.7.4"
  }
 },
 "nbformat": 4,
 "nbformat_minor": 4
}
